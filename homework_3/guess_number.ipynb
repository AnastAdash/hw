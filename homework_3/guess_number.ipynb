{
 "cells": [
  {
   "cell_type": "code",
   "execution_count": 13,
   "id": "218d5d7f-f01b-42e1-83c8-c50f398d546b",
   "metadata": {},
   "outputs": [],
   "source": [
    "import random\n",
    "number = random.randint(0, 99) \n",
    "guess = 0"
   ]
  },
  {
   "cell_type": "code",
   "execution_count": 14,
   "id": "e05a8c1d-565a-4248-a45f-9260db2fa078",
   "metadata": {},
   "outputs": [
    {
     "name": "stdout",
     "output_type": "stream",
     "text": [
      "Ваше число меньше загаданного.\n",
      "Ваше число меньше загаданного.\n",
      "Ваше число меньше загаданного.\n",
      "Ваше число больше загаданного.\n",
      "Ваше число меньше загаданного.\n",
      "Ваше число меньше загаданного.\n",
      "Поздравляю, вы выиграли!\n"
     ]
    }
   ],
   "source": [
    "try:\n",
    "    while number != guess:\n",
    "        guess = int(input(\"Я загадал число от 0 до 99. Попробуй угадать его. Введите число от 0 до 99\"))\n",
    "        if guess > 100 or guess < 0:\n",
    "            print(\"Загаданное число не входит в указанный интервал\")\n",
    "        elif guess > number:\n",
    "            print(\"Ваше число больше загаданного.\")\n",
    "        elif guess < number:\n",
    "            print(\"Ваше число меньше загаданного.\")\n",
    "        else:\n",
    "            print(\"Поздравляю, вы выиграли!\")\n",
    "            break\n",
    "            \n",
    "           \n",
    "        \n",
    "\n",
    "\n",
    "\n",
    "except ValueError: \n",
    "    print(\"Вы неправильно ввели число. Попробуйте еще раз\")\n",
    "    "
   ]
  },
  {
   "cell_type": "code",
   "execution_count": 50,
   "id": "ce04a492-b802-4c3a-9587-abda817fc1fa",
   "metadata": {},
   "outputs": [
    {
     "data": {
      "text/plain": [
       "24"
      ]
     },
     "execution_count": 50,
     "metadata": {},
     "output_type": "execute_result"
    }
   ],
   "source": [
    "24\n"
   ]
  },
  {
   "cell_type": "code",
   "execution_count": null,
   "id": "60584d6f-6f83-471b-9b65-8e6977730a39",
   "metadata": {},
   "outputs": [],
   "source": []
  }
 ],
 "metadata": {
  "kernelspec": {
   "display_name": "Python 3",
   "language": "python",
   "name": "python3"
  },
  "language_info": {
   "codemirror_mode": {
    "name": "ipython",
    "version": 3
   },
   "file_extension": ".py",
   "mimetype": "text/x-python",
   "name": "python",
   "nbconvert_exporter": "python",
   "pygments_lexer": "ipython3",
   "version": "3.12.3"
  }
 },
 "nbformat": 4,
 "nbformat_minor": 5
}
