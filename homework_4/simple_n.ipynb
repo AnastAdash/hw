{
 "cells": [
  {
   "cell_type": "code",
   "execution_count": 206,
   "id": "fe6b3c20-1c35-42fa-a1ab-2a4c91f59469",
   "metadata": {},
   "outputs": [],
   "source": [
    "try:\n",
    "    n = int(input(\"Введите число больше 2. А я выведу все простые числа, входящие в интервал от 2 до вашего числа.\"))\n",
    "    simple_n = list(range(2,n+1))\n",
    "    i = 2\n",
    "    j = 0\n",
    "    k = 0\n",
    "except ValueError:\n",
    "    print(\"Вам нужно ввести число\")"
   ]
  },
  {
   "cell_type": "code",
   "execution_count": 207,
   "id": "9d633fc9-1cbd-43c1-b03a-67a8393a1fee",
   "metadata": {},
   "outputs": [],
   "source": [
    "while i**2<=n:\n",
    "    k=0\n",
    "    j=0\n",
    "    if n<2:\n",
    "        print(\"Скорее всего вы ввели число неверно. Попробуйте еще раз\")\n",
    "        break\n",
    "    elif n==2:\n",
    "        print('2')\n",
    "    else:\n",
    "        while j<=n:\n",
    "            try:\n",
    "                j = i**2 + i*k\n",
    "                simple_n.remove(j)\n",
    "                k = k+1\n",
    "            except ValueError:\n",
    "                k = k+1\n",
    "    i = i+1"
   ]
  },
  {
   "cell_type": "code",
   "execution_count": null,
   "id": "747e12ca",
   "metadata": {},
   "outputs": [],
   "source": [
    "print(*simple_n, sep=\"\\n\")"
   ]
  }
 ],
 "metadata": {
  "kernelspec": {
   "display_name": "Python 3",
   "language": "python",
   "name": "python3"
  },
  "language_info": {
   "codemirror_mode": {
    "name": "ipython",
    "version": 3
   },
   "file_extension": ".py",
   "mimetype": "text/x-python",
   "name": "python",
   "nbconvert_exporter": "python",
   "pygments_lexer": "ipython3",
   "version": "3.12.3"
  }
 },
 "nbformat": 4,
 "nbformat_minor": 5
}
