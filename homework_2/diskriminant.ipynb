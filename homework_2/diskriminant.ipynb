{
 "cells": [
  {
   "cell_type": "code",
   "execution_count": 11,
   "id": "d1b041d3-1bae-42c2-b831-382f5645e60f",
   "metadata": {},
   "outputs": [],
   "source": [
    "import math"
   ]
  },
  {
   "cell_type": "code",
   "execution_count": 15,
   "id": "7e1dd4b4-87c3-4a92-9b60-683d8fa66116",
   "metadata": {
    "scrolled": true
   },
   "outputs": [],
   "source": [
    "from math import sqrt"
   ]
  },
  {
   "cell_type": "code",
   "execution_count": 19,
   "id": "430800c0-9c7b-43b6-a68c-cd24da2bb7b3",
   "metadata": {},
   "outputs": [
    {
     "name": "stdin",
     "output_type": "stream",
     "text": [
      "Для квадратного уровнения вида: ax^2+bx^2+c=0, введите коэффициент а:  1\n",
      "Введите коэффициент b 4\n",
      "Введите коэффициент c -21\n"
     ]
    }
   ],
   "source": [
    "a = int(input(\"Для квадратного уровнения вида: ax^2+bx^2+c=0, введите коэффициент а: \"))\n",
    "b = int(input(\"Введите коэффициент b\"))\n",
    "c = int(input(\"Введите коэффициент c\"))"
   ]
  },
  {
   "cell_type": "code",
   "execution_count": 25,
   "id": "2aa8bdcc-49a5-404a-918f-7ebcd0140e68",
   "metadata": {},
   "outputs": [
    {
     "name": "stdout",
     "output_type": "stream",
     "text": [
      "x1 =  3.0    x2 =  -7.0\n"
     ]
    }
   ],
   "source": [
    "diskr = b**2 -4*a*c\n",
    "if diskr<0:\n",
    "    print(\"Нет корней\")\n",
    "elif diskr==0:\n",
    "    x=-b/2*a\n",
    "    print(\"x = \",x)\n",
    "else :\n",
    "    x_1= (-b+sqrt(diskr))/2*a\n",
    "    x_2= (-b-sqrt(diskr))/2*a\n",
    "    print(\"x1 = \",x_1,\"   x2 = \",x_2)\n",
    "    "
   ]
  },
  {
   "cell_type": "code",
   "execution_count": null,
   "id": "3aa61a3c-6928-4d05-b9c9-a9998ae027a0",
   "metadata": {},
   "outputs": [],
   "source": []
  }
 ],
 "metadata": {
  "kernelspec": {
   "display_name": "Python 3 (ipykernel)",
   "language": "python",
   "name": "python3"
  },
  "language_info": {
   "codemirror_mode": {
    "name": "ipython",
    "version": 3
   },
   "file_extension": ".py",
   "mimetype": "text/x-python",
   "name": "python",
   "nbconvert_exporter": "python",
   "pygments_lexer": "ipython3",
   "version": "3.12.4"
  }
 },
 "nbformat": 4,
 "nbformat_minor": 5
}
