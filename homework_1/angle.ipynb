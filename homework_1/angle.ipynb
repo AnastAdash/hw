{
 "cells": [
  {
   "cell_type": "code",
   "execution_count": 1,
   "id": "0dfa63be-4cb0-462d-bee3-38fa3c06f671",
   "metadata": {},
   "outputs": [],
   "source": [
    "import math"
   ]
  },
  {
   "cell_type": "code",
   "execution_count": 2,
   "id": "e8d19b52-f3b9-41ce-9a70-28b60159016e",
   "metadata": {},
   "outputs": [],
   "source": [
    "from math import sqrt\n",
    "from math import cos\n",
    "from math import radians"
   ]
  },
  {
   "cell_type": "code",
   "execution_count": 3,
   "id": "d8b4c817-94e5-4feb-98fd-9bb9685fd5c4",
   "metadata": {},
   "outputs": [
    {
     "name": "stdin",
     "output_type": "stream",
     "text": [
      "Введите одну из сторон треугольника:  12\n"
     ]
    }
   ],
   "source": [
    "b = int(input(\"Введите одну из сторон треугольника: \"))"
   ]
  },
  {
   "cell_type": "code",
   "execution_count": 7,
   "id": "a3113145-e59d-4fb0-851a-b2e5c56b1596",
   "metadata": {},
   "outputs": [
    {
     "name": "stdin",
     "output_type": "stream",
     "text": [
      "Введите вторую сторону треугольника:  8\n"
     ]
    }
   ],
   "source": [
    "c = int(input(\"Введите вторую сторону треугольника: \"))"
   ]
  },
  {
   "cell_type": "code",
   "execution_count": 9,
   "id": "35a252d0-fba5-4a6f-9f4d-6ac067c4907c",
   "metadata": {},
   "outputs": [
    {
     "name": "stdin",
     "output_type": "stream",
     "text": [
      "Введите угол между этими сторонами:  60\n"
     ]
    }
   ],
   "source": [
    "ang = radians(int(input(\"Введите угол между этими сторонами: \")))"
   ]
  },
  {
   "cell_type": "code",
   "execution_count": 15,
   "id": "369b7a4b-1229-4f0b-b009-395073963827",
   "metadata": {},
   "outputs": [],
   "source": [
    "if ang>=180 and ang<0:\n",
    "    ang = int(input(\"Неверные данные. Введите угол заново:\"))\n",
    "else:\n",
    "   a = sqrt(b**2 + c**2 - (2*b*c*cos(ang)))"
   ]
  },
  {
   "cell_type": "code",
   "execution_count": 17,
   "id": "81700a87-7eb8-4f5f-98c3-a146022b9a5c",
   "metadata": {},
   "outputs": [
    {
     "name": "stdout",
     "output_type": "stream",
     "text": [
      "Третья сторона треугольника =  10.583005244258361\n"
     ]
    }
   ],
   "source": [
    "print(\"Третья сторона треугольника = \", a)"
   ]
  },
  {
   "cell_type": "code",
   "execution_count": null,
   "id": "40a9d432-800c-4729-b92d-5397d165ae18",
   "metadata": {},
   "outputs": [],
   "source": []
  }
 ],
 "metadata": {
  "kernelspec": {
   "display_name": "Python 3 (ipykernel)",
   "language": "python",
   "name": "python3"
  },
  "language_info": {
   "codemirror_mode": {
    "name": "ipython",
    "version": 3
   },
   "file_extension": ".py",
   "mimetype": "text/x-python",
   "name": "python",
   "nbconvert_exporter": "python",
   "pygments_lexer": "ipython3",
   "version": "3.12.4"
  }
 },
 "nbformat": 4,
 "nbformat_minor": 5
}
